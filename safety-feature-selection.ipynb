{
 "cells": [
  {
   "cell_type": "markdown",
   "metadata": {},
   "source": [
    "# Feature Selection\n",
    "\n",
    "Source: https://towardsdatascience.com/feature-selection-techniques-in-machine-learning-with-python-f24e7da3f36e  \n",
    "Extra Tree Classifier is used for extracting the top 10 features for the dataset."
   ]
  },
  {
   "cell_type": "code",
   "execution_count": 1,
   "metadata": {},
   "outputs": [],
   "source": [
    "import numpy as np\n",
    "import pandas as pd\n",
    "import matplotlib.pyplot as plt\n",
    "from sklearn.ensemble import ExtraTreesClassifier"
   ]
  },
  {
   "cell_type": "code",
   "execution_count": 2,
   "metadata": {},
   "outputs": [],
   "source": [
    "dataset = pd.read_csv('safety_dataset_new.csv')\n",
    "\n",
    "X = dataset.drop(['label', 'bookingID'], axis=1)\n",
    "y = dataset.label"
   ]
  },
  {
   "cell_type": "code",
   "execution_count": 4,
   "metadata": {},
   "outputs": [
    {
     "data": {
      "image/png": "[encoded data removed]",
      "text/plain": [
       "<matplotlib.figure.Figure at 0x178b34c8470>"
      ]
     },
     "metadata": {},
     "output_type": "display_data"
    }
   ],
   "source": [
    "model = ExtraTreesClassifier()\n",
    "model.fit(X,y)\n",
    "\n",
    "# Plot graph of feature importances for better visualization\n",
    "feat_importances = pd.Series(model.feature_importances_, index=X.columns)\n",
    "feat_importances.nlargest(10).plot(kind='barh')\n",
    "plt.show()"
   ]
  },
  {
   "cell_type": "markdown",
   "metadata": {},
   "source": [
    "From the above chart, we can make a few observations:\n",
    "- The **time** of the trip is especially important\n",
    "- The standard deviation for **acceleration** x, y, z are very important\n",
    "- The maximum, standard deviation and 70th percentile of **Speed** are very important\n",
    "- The standard deviation of **Bearing** is very important\n",
    "\n",
    "**Explanation**  \n",
    "The selected features make sense, as dangerous trips are often described by trips with very high or varying speeds and varying accelerations (suddenly braking or moving). Bearing refers to the relationship between two locations. If the bearing of the trip varies a lot, this means that the vehicle is changing directions very often, and that could mean that the driver is driving dangerously.\n",
    "\n",
    "We will create a new dataframe with the above features and see what the result of the model will be"
   ]
  },
  {
   "cell_type": "code",
   "execution_count": 8,
   "metadata": {},
   "outputs": [],
   "source": [
    "filtered_dataset = dataset[['bookingID',\n",
    "                            'Speed_perc70',\n",
    "                            'acceleration_x_min',\n",
    "                            'acceleration_z_std',\n",
    "                            'Bearing_std',\n",
    "                            'acceleration_x_std',\n",
    "                            'Speed_std',\n",
    "                            'acceleration_y_std',\n",
    "                            'acceleration_z_max',\n",
    "                            'Speed_max',\n",
    "                            'time',\n",
    "                            'label'\n",
    "                            ]]"
   ]
  },
  {
   "cell_type": "code",
   "execution_count": 9,
   "metadata": {},
   "outputs": [
    {
     "data": {
      "text/html": [
       "<div>\n",
       "<style scoped>\n",
       "    .dataframe tbody tr th:only-of-type {\n",
       "        vertical-align: middle;\n",
       "    }\n",
       "\n",
       "    .dataframe tbody tr th {\n",
       "        vertical-align: top;\n",
       "    }\n",
       "\n",
       "    .dataframe thead th {\n",
       "        text-align: right;\n",
       "    }\n",
       "</style>\n",
       "<table border=\"1\" class=\"dataframe\">\n",
       "  <thead>\n",
       "    <tr style=\"text-align: right;\">\n",
       "      <th></th>\n",
       "      <th>bookingID</th>\n",
       "      <th>Speed_perc70</th>\n",
       "      <th>acceleration_x_min</th>\n",
       "      <th>acceleration_z_std</th>\n",
       "      <th>Bearing_std</th>\n",
       "      <th>acceleration_x_std</th>\n",
       "      <th>Speed_std</th>\n",
       "      <th>acceleration_y_std</th>\n",
       "      <th>acceleration_z_max</th>\n",
       "      <th>Speed_max</th>\n",
       "      <th>time</th>\n",
       "      <th>label</th>\n",
       "    </tr>\n",
       "  </thead>\n",
       "  <tbody>\n",
       "    <tr>\n",
       "      <th>0</th>\n",
       "      <td>0</td>\n",
       "      <td>14.473692</td>\n",
       "      <td>-4.692294</td>\n",
       "      <td>1.141266</td>\n",
       "      <td>129.231351</td>\n",
       "      <td>0.928022</td>\n",
       "      <td>7.199919</td>\n",
       "      <td>0.639934</td>\n",
       "      <td>2.318857</td>\n",
       "      <td>22.946083</td>\n",
       "      <td>1589.0</td>\n",
       "      <td>0</td>\n",
       "    </tr>\n",
       "    <tr>\n",
       "      <th>1</th>\n",
       "      <td>1</td>\n",
       "      <td>12.118372</td>\n",
       "      <td>-5.352994</td>\n",
       "      <td>0.854271</td>\n",
       "      <td>89.861236</td>\n",
       "      <td>0.744157</td>\n",
       "      <td>7.059362</td>\n",
       "      <td>0.533915</td>\n",
       "      <td>1.481293</td>\n",
       "      <td>21.882141</td>\n",
       "      <td>1034.0</td>\n",
       "      <td>1</td>\n",
       "    </tr>\n",
       "    <tr>\n",
       "      <th>2</th>\n",
       "      <td>2</td>\n",
       "      <td>5.038032</td>\n",
       "      <td>-2.971295</td>\n",
       "      <td>1.020021</td>\n",
       "      <td>119.316520</td>\n",
       "      <td>0.756589</td>\n",
       "      <td>2.897762</td>\n",
       "      <td>0.505693</td>\n",
       "      <td>2.312870</td>\n",
       "      <td>9.360483</td>\n",
       "      <td>825.0</td>\n",
       "      <td>1</td>\n",
       "    </tr>\n",
       "    <tr>\n",
       "      <th>3</th>\n",
       "      <td>4</td>\n",
       "      <td>8.217000</td>\n",
       "      <td>-2.866458</td>\n",
       "      <td>0.779529</td>\n",
       "      <td>71.273774</td>\n",
       "      <td>0.527220</td>\n",
       "      <td>5.595901</td>\n",
       "      <td>0.598023</td>\n",
       "      <td>0.296381</td>\n",
       "      <td>19.780001</td>\n",
       "      <td>1094.0</td>\n",
       "      <td>1</td>\n",
       "    </tr>\n",
       "    <tr>\n",
       "      <th>4</th>\n",
       "      <td>6</td>\n",
       "      <td>7.770113</td>\n",
       "      <td>-4.352792</td>\n",
       "      <td>0.942163</td>\n",
       "      <td>111.868249</td>\n",
       "      <td>0.826271</td>\n",
       "      <td>5.314844</td>\n",
       "      <td>0.617210</td>\n",
       "      <td>7.977724</td>\n",
       "      <td>16.394695</td>\n",
       "      <td>1094.0</td>\n",
       "      <td>0</td>\n",
       "    </tr>\n",
       "  </tbody>\n",
       "</table>\n",
       "</div>"
      ],
      "text/plain": [
       "   bookingID  Speed_perc70  acceleration_x_min  acceleration_z_std  \\\n",
       "0          0     14.473692           -4.692294            1.141266   \n",
       "1          1     12.118372           -5.352994            0.854271   \n",
       "2          2      5.038032           -2.971295            1.020021   \n",
       "3          4      8.217000           -2.866458            0.779529   \n",
       "4          6      7.770113           -4.352792            0.942163   \n",
       "\n",
       "   Bearing_std  acceleration_x_std  Speed_std  acceleration_y_std  \\\n",
       "0   129.231351            0.928022   7.199919            0.639934   \n",
       "1    89.861236            0.744157   7.059362            0.533915   \n",
       "2   119.316520            0.756589   2.897762            0.505693   \n",
       "3    71.273774            0.527220   5.595901            0.598023   \n",
       "4   111.868249            0.826271   5.314844            0.617210   \n",
       "\n",
       "   acceleration_z_max  Speed_max    time  label  \n",
       "0            2.318857  22.946083  1589.0      0  \n",
       "1            1.481293  21.882141  1034.0      1  \n",
       "2            2.312870   9.360483   825.0      1  \n",
       "3            0.296381  19.780001  1094.0      1  \n",
       "4            7.977724  16.394695  1094.0      0  "
      ]
     },
     "execution_count": 9,
     "metadata": {},
     "output_type": "execute_result"
    }
   ],
   "source": [
    "filtered_dataset.head()"
   ]
  },
  {
   "cell_type": "code",
   "execution_count": 10,
   "metadata": {},
   "outputs": [],
   "source": [
    "filtered_dataset.to_csv(\"safety_dataset_filtered.csv\", index=False)"
   ]
  },
  {
   "cell_type": "code",
   "execution_count": null,
   "metadata": {},
   "outputs": [],
   "source": []
  }
 ],
 "metadata": {
  "kernelspec": {
   "display_name": "Python 3",
   "language": "python",
   "name": "python3"
  },
  "language_info": {
   "codemirror_mode": {
    "name": "ipython",
    "version": 3
   },
   "file_extension": ".py",
   "mimetype": "text/x-python",
   "name": "python",
   "nbconvert_exporter": "python",
   "pygments_lexer": "ipython3",
   "version": "3.6.2"
  }
 },
 "nbformat": 4,
 "nbformat_minor": 2
}

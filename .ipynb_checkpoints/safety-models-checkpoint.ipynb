{
 "cells": [
  {
   "cell_type": "markdown",
   "metadata": {},
   "source": [
    "# Safety Category: Models\n",
    "\n",
    "In this notebook, several models are tested on the preprocessed training data.  \n",
    "\n",
    "**Models:**   \n",
    "1) Random Forest  \n",
    "2) Logistic Regression  \n",
    "3) Support Vector Machine  \n",
    "4) Neural Network\n",
    "\n",
    "**Performance**  \n",
    "\n",
    "| Model                  | Accuracy   | AUC   |\n",
    "|------------------------|------------|-------|\n",
    "| Random Forest          | 0.777      | 0.588 |\n",
    "| Logistic Regression    | 0.753      | 0.500 |\n",
    "| Support Vector Machine | 0.752      | 0.499 |\n",
    "| Neural Network         | 0.745      | 0.532 |\n",
    "\n",
    "From the experiments below, **Random Forest** performs the best\n",
    "\n",
    "\n",
    "## Reading the data"
   ]
  },
  {
   "cell_type": "code",
   "execution_count": 25,
   "metadata": {},
   "outputs": [],
   "source": [
    "import numpy as np\n",
    "import pandas as pd\n",
    "import matplotlib.pyplot as plt\n",
    "%matplotlib inline\n",
    "\n",
    "from sklearn import preprocessing\n",
    "from sklearn.model_selection import train_test_split\n",
    "from sklearn.metrics import confusion_matrix, precision_score, recall_score, roc_auc_score, roc_curve\n",
    "\n",
    "from sklearn.ensemble import RandomForestClassifier\n",
    "from sklearn.linear_model import LogisticRegression\n",
    "from sklearn.svm import SVC\n",
    "from sklearn.neural_network import MLPClassifier"
   ]
  },
  {
   "cell_type": "code",
   "execution_count": 3,
   "metadata": {},
   "outputs": [
    {
     "name": "stdout",
     "output_type": "stream",
     "text": [
      "(20000, 12)\n"
     ]
    },
    {
     "data": {
      "text/html": [
       "<div>\n",
       "<style scoped>\n",
       "    .dataframe tbody tr th:only-of-type {\n",
       "        vertical-align: middle;\n",
       "    }\n",
       "\n",
       "    .dataframe tbody tr th {\n",
       "        vertical-align: top;\n",
       "    }\n",
       "\n",
       "    .dataframe thead th {\n",
       "        text-align: right;\n",
       "    }\n",
       "</style>\n",
       "<table border=\"1\" class=\"dataframe\">\n",
       "  <thead>\n",
       "    <tr style=\"text-align: right;\">\n",
       "      <th></th>\n",
       "      <th>bookingID</th>\n",
       "      <th>Speed_perc70</th>\n",
       "      <th>acceleration_x_min</th>\n",
       "      <th>acceleration_z_std</th>\n",
       "      <th>Bearing_std</th>\n",
       "      <th>acceleration_x_std</th>\n",
       "      <th>Speed_std</th>\n",
       "      <th>acceleration_y_std</th>\n",
       "      <th>acceleration_z_max</th>\n",
       "      <th>Speed_max</th>\n",
       "      <th>time</th>\n",
       "      <th>label</th>\n",
       "    </tr>\n",
       "  </thead>\n",
       "  <tbody>\n",
       "    <tr>\n",
       "      <th>0</th>\n",
       "      <td>0</td>\n",
       "      <td>14.473692</td>\n",
       "      <td>-4.692294</td>\n",
       "      <td>1.141266</td>\n",
       "      <td>129.231351</td>\n",
       "      <td>0.928022</td>\n",
       "      <td>7.199919</td>\n",
       "      <td>0.639934</td>\n",
       "      <td>2.318857</td>\n",
       "      <td>22.946083</td>\n",
       "      <td>1589.0</td>\n",
       "      <td>0</td>\n",
       "    </tr>\n",
       "    <tr>\n",
       "      <th>1</th>\n",
       "      <td>1</td>\n",
       "      <td>12.118372</td>\n",
       "      <td>-5.352994</td>\n",
       "      <td>0.854271</td>\n",
       "      <td>89.861236</td>\n",
       "      <td>0.744157</td>\n",
       "      <td>7.059362</td>\n",
       "      <td>0.533915</td>\n",
       "      <td>1.481293</td>\n",
       "      <td>21.882141</td>\n",
       "      <td>1034.0</td>\n",
       "      <td>1</td>\n",
       "    </tr>\n",
       "    <tr>\n",
       "      <th>2</th>\n",
       "      <td>2</td>\n",
       "      <td>5.038032</td>\n",
       "      <td>-2.971295</td>\n",
       "      <td>1.020021</td>\n",
       "      <td>119.316520</td>\n",
       "      <td>0.756589</td>\n",
       "      <td>2.897762</td>\n",
       "      <td>0.505693</td>\n",
       "      <td>2.312870</td>\n",
       "      <td>9.360483</td>\n",
       "      <td>825.0</td>\n",
       "      <td>1</td>\n",
       "    </tr>\n",
       "    <tr>\n",
       "      <th>3</th>\n",
       "      <td>4</td>\n",
       "      <td>8.217000</td>\n",
       "      <td>-2.866458</td>\n",
       "      <td>0.779529</td>\n",
       "      <td>71.273774</td>\n",
       "      <td>0.527220</td>\n",
       "      <td>5.595901</td>\n",
       "      <td>0.598023</td>\n",
       "      <td>0.296381</td>\n",
       "      <td>19.780001</td>\n",
       "      <td>1094.0</td>\n",
       "      <td>1</td>\n",
       "    </tr>\n",
       "    <tr>\n",
       "      <th>4</th>\n",
       "      <td>6</td>\n",
       "      <td>7.770113</td>\n",
       "      <td>-4.352792</td>\n",
       "      <td>0.942163</td>\n",
       "      <td>111.868249</td>\n",
       "      <td>0.826271</td>\n",
       "      <td>5.314844</td>\n",
       "      <td>0.617210</td>\n",
       "      <td>7.977724</td>\n",
       "      <td>16.394695</td>\n",
       "      <td>1094.0</td>\n",
       "      <td>0</td>\n",
       "    </tr>\n",
       "  </tbody>\n",
       "</table>\n",
       "</div>"
      ],
      "text/plain": [
       "   bookingID  Speed_perc70  acceleration_x_min  acceleration_z_std  \\\n",
       "0          0     14.473692           -4.692294            1.141266   \n",
       "1          1     12.118372           -5.352994            0.854271   \n",
       "2          2      5.038032           -2.971295            1.020021   \n",
       "3          4      8.217000           -2.866458            0.779529   \n",
       "4          6      7.770113           -4.352792            0.942163   \n",
       "\n",
       "   Bearing_std  acceleration_x_std  Speed_std  acceleration_y_std  \\\n",
       "0   129.231351            0.928022   7.199919            0.639934   \n",
       "1    89.861236            0.744157   7.059362            0.533915   \n",
       "2   119.316520            0.756589   2.897762            0.505693   \n",
       "3    71.273774            0.527220   5.595901            0.598023   \n",
       "4   111.868249            0.826271   5.314844            0.617210   \n",
       "\n",
       "   acceleration_z_max  Speed_max    time  label  \n",
       "0            2.318857  22.946083  1589.0      0  \n",
       "1            1.481293  21.882141  1034.0      1  \n",
       "2            2.312870   9.360483   825.0      1  \n",
       "3            0.296381  19.780001  1094.0      1  \n",
       "4            7.977724  16.394695  1094.0      0  "
      ]
     },
     "execution_count": 3,
     "metadata": {},
     "output_type": "execute_result"
    }
   ],
   "source": [
    "# safety_dataset_new = pd.read_csv('safety_dataset_new.csv')\n",
    "safety_dataset_new = pd.read_csv('safety_dataset_filtered.csv')\n",
    "print(safety_dataset_new.shape)\n",
    "safety_dataset_new.head()"
   ]
  },
  {
   "cell_type": "code",
   "execution_count": 4,
   "metadata": {},
   "outputs": [],
   "source": [
    "X = safety_dataset_new.drop(['label', 'bookingID'], axis=1)\n",
    "y = safety_dataset_new.label"
   ]
  },
  {
   "cell_type": "code",
   "execution_count": 5,
   "metadata": {},
   "outputs": [],
   "source": [
    "X_train, X_test, y_train, y_test = train_test_split(X, y, test_size=0.25, random_state=0)"
   ]
  },
  {
   "cell_type": "code",
   "execution_count": 6,
   "metadata": {},
   "outputs": [
    {
     "data": {
      "text/plain": [
       "['Speed_perc70',\n",
       " 'acceleration_x_min',\n",
       " 'acceleration_z_std',\n",
       " 'Bearing_std',\n",
       " 'acceleration_x_std',\n",
       " 'Speed_std',\n",
       " 'acceleration_y_std',\n",
       " 'acceleration_z_max',\n",
       " 'Speed_max',\n",
       " 'time']"
      ]
     },
     "execution_count": 6,
     "metadata": {},
     "output_type": "execute_result"
    }
   ],
   "source": [
    "features = list(X_train.columns)\n",
    "features"
   ]
  },
  {
   "cell_type": "markdown",
   "metadata": {},
   "source": [
    "The above features are the selected features obtained from the feature selection notebook"
   ]
  },
  {
   "cell_type": "markdown",
   "metadata": {},
   "source": [
    "### 1) Random Forest"
   ]
  },
  {
   "cell_type": "code",
   "execution_count": 7,
   "metadata": {},
   "outputs": [
    {
     "name": "stderr",
     "output_type": "stream",
     "text": [
      "[Parallel(n_jobs=-1)]: Done  42 tasks      | elapsed:    1.4s\n",
      "[Parallel(n_jobs=-1)]: Done 100 out of 100 | elapsed:    3.0s finished\n"
     ]
    },
    {
     "data": {
      "text/plain": [
       "RandomForestClassifier(bootstrap=True, class_weight=None, criterion='gini',\n",
       "            max_depth=None, max_features='sqrt', max_leaf_nodes=None,\n",
       "            min_impurity_decrease=0.0, min_impurity_split=None,\n",
       "            min_samples_leaf=1, min_samples_split=2,\n",
       "            min_weight_fraction_leaf=0.0, n_estimators=100, n_jobs=-1,\n",
       "            oob_score=False, random_state=50, verbose=1, warm_start=False)"
      ]
     },
     "execution_count": 7,
     "metadata": {},
     "output_type": "execute_result"
    }
   ],
   "source": [
    "RSEED = 50\n",
    "\n",
    "# Create the RF model with 100 trees\n",
    "rf_model = RandomForestClassifier(n_estimators=100,  random_state=RSEED,  max_features = 'sqrt', n_jobs=-1, verbose = 1)\n",
    "\n",
    "# Fit on training data\n",
    "rf_model.fit(X_train, y_train)"
   ]
  },
  {
   "cell_type": "code",
   "execution_count": 15,
   "metadata": {},
   "outputs": [
    {
     "name": "stdout",
     "output_type": "stream",
     "text": [
      "Accuracy: 0.777\n"
     ]
    },
    {
     "name": "stderr",
     "output_type": "stream",
     "text": [
      "[Parallel(n_jobs=4)]: Done  42 tasks      | elapsed:    0.0s\n",
      "[Parallel(n_jobs=4)]: Done 100 out of 100 | elapsed:    0.0s finished\n"
     ]
    }
   ],
   "source": [
    "accuracy_rf = rf_model.score(X_test, y_test)\n",
    "print(\"Accuracy:\", accuracy_rf)"
   ]
  },
  {
   "cell_type": "code",
   "execution_count": 16,
   "metadata": {},
   "outputs": [
    {
     "name": "stderr",
     "output_type": "stream",
     "text": [
      "[Parallel(n_jobs=4)]: Done  42 tasks      | elapsed:    0.0s\n",
      "[Parallel(n_jobs=4)]: Done 100 out of 100 | elapsed:    0.0s finished\n"
     ]
    },
    {
     "name": "stdout",
     "output_type": "stream",
     "text": [
      "AUC score: 0.588262849982\n"
     ]
    }
   ],
   "source": [
    "auc_score_rf = roc_auc_score(y_test, rf_model.predict(X_test))\n",
    "print(\"AUC score:\", auc_score_rf)"
   ]
  },
  {
   "cell_type": "markdown",
   "metadata": {},
   "source": [
    "### 2) Logistic Regression"
   ]
  },
  {
   "cell_type": "code",
   "execution_count": 13,
   "metadata": {},
   "outputs": [
    {
     "data": {
      "text/plain": [
       "LogisticRegression(C=1.0, class_weight=None, dual=False, fit_intercept=True,\n",
       "          intercept_scaling=1, max_iter=4000, multi_class='ovr', n_jobs=1,\n",
       "          penalty='l2', random_state=None, solver='lbfgs', tol=0.0001,\n",
       "          verbose=0, warm_start=False)"
      ]
     },
     "execution_count": 13,
     "metadata": {},
     "output_type": "execute_result"
    }
   ],
   "source": [
    "logistic_regression = LogisticRegression(solver = 'lbfgs', max_iter=4000)\n",
    "logistic_regression.fit(X_train, y_train)"
   ]
  },
  {
   "cell_type": "code",
   "execution_count": 17,
   "metadata": {},
   "outputs": [
    {
     "name": "stdout",
     "output_type": "stream",
     "text": [
      "Accuracy: 0.7532\n"
     ]
    }
   ],
   "source": [
    "accuracy_logreg = logistic_regression.score(X_test, y_test)\n",
    "print(\"Accuracy:\", accuracy_logreg)"
   ]
  },
  {
   "cell_type": "code",
   "execution_count": 19,
   "metadata": {},
   "outputs": [
    {
     "name": "stdout",
     "output_type": "stream",
     "text": [
      "AUC score: 0.5\n"
     ]
    }
   ],
   "source": [
    "auc_score_logreg = roc_auc_score(y_test, logistic_regression.predict(X_test))\n",
    "print(\"AUC score:\", auc_score_logreg)"
   ]
  },
  {
   "cell_type": "markdown",
   "metadata": {},
   "source": [
    "### 3) Support Vector Machine"
   ]
  },
  {
   "cell_type": "code",
   "execution_count": 22,
   "metadata": {},
   "outputs": [
    {
     "data": {
      "text/plain": [
       "SVC(C=1.0, cache_size=200, class_weight=None, coef0=0.0,\n",
       "  decision_function_shape='ovr', degree=3, gamma='auto', kernel='rbf',\n",
       "  max_iter=-1, probability=False, random_state=None, shrinking=True,\n",
       "  tol=0.001, verbose=False)"
      ]
     },
     "execution_count": 22,
     "metadata": {},
     "output_type": "execute_result"
    }
   ],
   "source": [
    "svm = SVC(gamma='auto')\n",
    "svm.fit(X_train, y_train)"
   ]
  },
  {
   "cell_type": "code",
   "execution_count": 29,
   "metadata": {},
   "outputs": [
    {
     "name": "stdout",
     "output_type": "stream",
     "text": [
      "Accuracy: 0.7516\n"
     ]
    }
   ],
   "source": [
    "accuracy_svm = svm.score(X_test, y_test)\n",
    "print(\"Accuracy:\", accuracy_svm)"
   ]
  },
  {
   "cell_type": "code",
   "execution_count": 24,
   "metadata": {},
   "outputs": [
    {
     "name": "stdout",
     "output_type": "stream",
     "text": [
      "AUC score: 0.499210284633\n"
     ]
    }
   ],
   "source": [
    "auc_score_svm = roc_auc_score(y_test, svm.predict(X_test))\n",
    "print(\"AUC score:\", auc_score_svm)"
   ]
  },
  {
   "cell_type": "markdown",
   "metadata": {},
   "source": [
    "### 4) Neural Network"
   ]
  },
  {
   "cell_type": "code",
   "execution_count": 26,
   "metadata": {},
   "outputs": [
    {
     "data": {
      "text/plain": [
       "MLPClassifier(activation='relu', alpha=1e-05, batch_size='auto', beta_1=0.9,\n",
       "       beta_2=0.999, early_stopping=False, epsilon=1e-08,\n",
       "       hidden_layer_sizes=(72, 24, 72), learning_rate='constant',\n",
       "       learning_rate_init=0.001, max_iter=500, momentum=0.9,\n",
       "       nesterovs_momentum=True, power_t=0.5, random_state=1, shuffle=True,\n",
       "       solver='adam', tol=0.0001, validation_fraction=0.1, verbose=False,\n",
       "       warm_start=False)"
      ]
     },
     "execution_count": 26,
     "metadata": {},
     "output_type": "execute_result"
    }
   ],
   "source": [
    "mlpc = MLPClassifier(solver='adam', alpha=1e-5, hidden_layer_sizes=(72, 24, 72), random_state=1, max_iter=500)\n",
    "mlpc.fit(X_train, y_train)"
   ]
  },
  {
   "cell_type": "code",
   "execution_count": 30,
   "metadata": {},
   "outputs": [
    {
     "name": "stdout",
     "output_type": "stream",
     "text": [
      "Accuracy: 0.7452\n"
     ]
    }
   ],
   "source": [
    "accuracy_nn = mlpc.score(X_test, y_test)\n",
    "print(\"Accuracy:\", accuracy_nn)"
   ]
  },
  {
   "cell_type": "code",
   "execution_count": 31,
   "metadata": {},
   "outputs": [
    {
     "name": "stdout",
     "output_type": "stream",
     "text": [
      "AUC score: 0.53201080038\n"
     ]
    }
   ],
   "source": [
    "auc_score_nn = roc_auc_score(y_test, mlpc.predict(X_test))\n",
    "print(\"AUC score:\", auc_score_nn)"
   ]
  }
 ],
 "metadata": {
  "kernelspec": {
   "display_name": "Python 3",
   "language": "python",
   "name": "python3"
  },
  "language_info": {
   "codemirror_mode": {
    "name": "ipython",
    "version": 3
   },
   "file_extension": ".py",
   "mimetype": "text/x-python",
   "name": "python",
   "nbconvert_exporter": "python",
   "pygments_lexer": "ipython3",
   "version": "3.6.2"
  }
 },
 "nbformat": 4,
 "nbformat_minor": 2
}

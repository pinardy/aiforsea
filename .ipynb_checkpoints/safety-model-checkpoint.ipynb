{
 "cells": [
  {
   "cell_type": "markdown",
   "metadata": {},
   "source": [
    "# Safety Category\n",
    "\n",
    "## Model: Random Forest"
   ]
  },
  {
   "cell_type": "code",
   "execution_count": 1,
   "metadata": {},
   "outputs": [],
   "source": [
    "import numpy as np\n",
    "import pandas as pd\n",
    "import matplotlib.pyplot as plt\n",
    "%matplotlib inline\n",
    "\n",
    "from sklearn import preprocessing\n",
    "from sklearn.ensemble import RandomForestClassifier\n",
    "from sklearn.model_selection import train_test_split\n",
    "from sklearn.metrics import confusion_matrix, precision_score, recall_score, roc_auc_score, roc_curve"
   ]
  },
  {
   "cell_type": "code",
   "execution_count": 2,
   "metadata": {},
   "outputs": [
    {
     "name": "stdout",
     "output_type": "stream",
     "text": [
      "(20000, 12)\n"
     ]
    },
    {
     "data": {
      "text/html": [
       "<div>\n",
       "<style scoped>\n",
       "    .dataframe tbody tr th:only-of-type {\n",
       "        vertical-align: middle;\n",
       "    }\n",
       "\n",
       "    .dataframe tbody tr th {\n",
       "        vertical-align: top;\n",
       "    }\n",
       "\n",
       "    .dataframe thead th {\n",
       "        text-align: right;\n",
       "    }\n",
       "</style>\n",
       "<table border=\"1\" class=\"dataframe\">\n",
       "  <thead>\n",
       "    <tr style=\"text-align: right;\">\n",
       "      <th></th>\n",
       "      <th>bookingID</th>\n",
       "      <th>Speed_perc70</th>\n",
       "      <th>acceleration_x_min</th>\n",
       "      <th>acceleration_z_std</th>\n",
       "      <th>Bearing_std</th>\n",
       "      <th>acceleration_x_std</th>\n",
       "      <th>Speed_std</th>\n",
       "      <th>acceleration_y_std</th>\n",
       "      <th>acceleration_z_max</th>\n",
       "      <th>Speed_max</th>\n",
       "      <th>time</th>\n",
       "      <th>label</th>\n",
       "    </tr>\n",
       "  </thead>\n",
       "  <tbody>\n",
       "    <tr>\n",
       "      <th>0</th>\n",
       "      <td>0</td>\n",
       "      <td>14.473692</td>\n",
       "      <td>-4.692294</td>\n",
       "      <td>1.141266</td>\n",
       "      <td>129.231351</td>\n",
       "      <td>0.928022</td>\n",
       "      <td>7.199919</td>\n",
       "      <td>0.639934</td>\n",
       "      <td>2.318857</td>\n",
       "      <td>22.946083</td>\n",
       "      <td>1589.0</td>\n",
       "      <td>0</td>\n",
       "    </tr>\n",
       "    <tr>\n",
       "      <th>1</th>\n",
       "      <td>1</td>\n",
       "      <td>12.118372</td>\n",
       "      <td>-5.352994</td>\n",
       "      <td>0.854271</td>\n",
       "      <td>89.861236</td>\n",
       "      <td>0.744157</td>\n",
       "      <td>7.059362</td>\n",
       "      <td>0.533915</td>\n",
       "      <td>1.481293</td>\n",
       "      <td>21.882141</td>\n",
       "      <td>1034.0</td>\n",
       "      <td>1</td>\n",
       "    </tr>\n",
       "    <tr>\n",
       "      <th>2</th>\n",
       "      <td>2</td>\n",
       "      <td>5.038032</td>\n",
       "      <td>-2.971295</td>\n",
       "      <td>1.020021</td>\n",
       "      <td>119.316520</td>\n",
       "      <td>0.756589</td>\n",
       "      <td>2.897762</td>\n",
       "      <td>0.505693</td>\n",
       "      <td>2.312870</td>\n",
       "      <td>9.360483</td>\n",
       "      <td>825.0</td>\n",
       "      <td>1</td>\n",
       "    </tr>\n",
       "    <tr>\n",
       "      <th>3</th>\n",
       "      <td>4</td>\n",
       "      <td>8.217000</td>\n",
       "      <td>-2.866458</td>\n",
       "      <td>0.779529</td>\n",
       "      <td>71.273774</td>\n",
       "      <td>0.527220</td>\n",
       "      <td>5.595901</td>\n",
       "      <td>0.598023</td>\n",
       "      <td>0.296381</td>\n",
       "      <td>19.780001</td>\n",
       "      <td>1094.0</td>\n",
       "      <td>1</td>\n",
       "    </tr>\n",
       "    <tr>\n",
       "      <th>4</th>\n",
       "      <td>6</td>\n",
       "      <td>7.770113</td>\n",
       "      <td>-4.352792</td>\n",
       "      <td>0.942163</td>\n",
       "      <td>111.868249</td>\n",
       "      <td>0.826271</td>\n",
       "      <td>5.314844</td>\n",
       "      <td>0.617210</td>\n",
       "      <td>7.977724</td>\n",
       "      <td>16.394695</td>\n",
       "      <td>1094.0</td>\n",
       "      <td>0</td>\n",
       "    </tr>\n",
       "  </tbody>\n",
       "</table>\n",
       "</div>"
      ],
      "text/plain": [
       "   bookingID  Speed_perc70  acceleration_x_min  acceleration_z_std  \\\n",
       "0          0     14.473692           -4.692294            1.141266   \n",
       "1          1     12.118372           -5.352994            0.854271   \n",
       "2          2      5.038032           -2.971295            1.020021   \n",
       "3          4      8.217000           -2.866458            0.779529   \n",
       "4          6      7.770113           -4.352792            0.942163   \n",
       "\n",
       "   Bearing_std  acceleration_x_std  Speed_std  acceleration_y_std  \\\n",
       "0   129.231351            0.928022   7.199919            0.639934   \n",
       "1    89.861236            0.744157   7.059362            0.533915   \n",
       "2   119.316520            0.756589   2.897762            0.505693   \n",
       "3    71.273774            0.527220   5.595901            0.598023   \n",
       "4   111.868249            0.826271   5.314844            0.617210   \n",
       "\n",
       "   acceleration_z_max  Speed_max    time  label  \n",
       "0            2.318857  22.946083  1589.0      0  \n",
       "1            1.481293  21.882141  1034.0      1  \n",
       "2            2.312870   9.360483   825.0      1  \n",
       "3            0.296381  19.780001  1094.0      1  \n",
       "4            7.977724  16.394695  1094.0      0  "
      ]
     },
     "execution_count": 2,
     "metadata": {},
     "output_type": "execute_result"
    }
   ],
   "source": [
    "# safety_dataset_new = pd.read_csv('safety_dataset_new.csv')\n",
    "safety_dataset_new = pd.read_csv('safety_dataset_filtered.csv')\n",
    "print(safety_dataset_new.shape)\n",
    "safety_dataset_new.head()"
   ]
  },
  {
   "cell_type": "code",
   "execution_count": 3,
   "metadata": {},
   "outputs": [],
   "source": [
    "X = safety_dataset_new.drop(['label', 'bookingID'], axis=1)\n",
    "y = safety_dataset_new.label"
   ]
  },
  {
   "cell_type": "code",
   "execution_count": 4,
   "metadata": {},
   "outputs": [],
   "source": [
    "X_train, X_test, y_train, y_test = train_test_split(X, y, test_size=0.25, random_state=0)"
   ]
  },
  {
   "cell_type": "code",
   "execution_count": 5,
   "metadata": {},
   "outputs": [
    {
     "data": {
      "text/plain": [
       "['Speed_perc70',\n",
       " 'acceleration_x_min',\n",
       " 'acceleration_z_std',\n",
       " 'Bearing_std',\n",
       " 'acceleration_x_std',\n",
       " 'Speed_std',\n",
       " 'acceleration_y_std',\n",
       " 'acceleration_z_max',\n",
       " 'Speed_max',\n",
       " 'time']"
      ]
     },
     "execution_count": 5,
     "metadata": {},
     "output_type": "execute_result"
    }
   ],
   "source": [
    "features = list(X_train.columns)\n",
    "features"
   ]
  },
  {
   "cell_type": "code",
   "execution_count": 6,
   "metadata": {},
   "outputs": [
    {
     "name": "stderr",
     "output_type": "stream",
     "text": [
      "[Parallel(n_jobs=-1)]: Done  42 tasks      | elapsed:    1.2s\n",
      "[Parallel(n_jobs=-1)]: Done 100 out of 100 | elapsed:    2.9s finished\n"
     ]
    },
    {
     "data": {
      "text/plain": [
       "RandomForestClassifier(bootstrap=True, class_weight=None, criterion='gini',\n",
       "            max_depth=None, max_features='sqrt', max_leaf_nodes=None,\n",
       "            min_impurity_decrease=0.0, min_impurity_split=None,\n",
       "            min_samples_leaf=1, min_samples_split=2,\n",
       "            min_weight_fraction_leaf=0.0, n_estimators=100, n_jobs=-1,\n",
       "            oob_score=False, random_state=50, verbose=1, warm_start=False)"
      ]
     },
     "execution_count": 6,
     "metadata": {},
     "output_type": "execute_result"
    }
   ],
   "source": [
    "RSEED = 50\n",
    "\n",
    "# Create the RF model with 100 trees\n",
    "rf_model = RandomForestClassifier(n_estimators=100,  random_state=RSEED,  max_features = 'sqrt', n_jobs=-1, verbose = 1)\n",
    "\n",
    "# Fit on training data\n",
    "rf_model.fit(X_train, y_train)"
   ]
  },
  {
   "cell_type": "code",
   "execution_count": 7,
   "metadata": {},
   "outputs": [
    {
     "name": "stderr",
     "output_type": "stream",
     "text": [
      "[Parallel(n_jobs=4)]: Done  42 tasks      | elapsed:    0.0s\n",
      "[Parallel(n_jobs=4)]: Done 100 out of 100 | elapsed:    0.1s finished\n",
      "[Parallel(n_jobs=4)]: Done  42 tasks      | elapsed:    0.0s\n",
      "[Parallel(n_jobs=4)]: Done 100 out of 100 | elapsed:    0.1s finished\n",
      "[Parallel(n_jobs=4)]: Done  42 tasks      | elapsed:    0.0s\n",
      "[Parallel(n_jobs=4)]: Done 100 out of 100 | elapsed:    0.0s finished\n",
      "[Parallel(n_jobs=4)]: Done  42 tasks      | elapsed:    0.0s\n",
      "[Parallel(n_jobs=4)]: Done 100 out of 100 | elapsed:    0.0s finished\n"
     ]
    }
   ],
   "source": [
    "train_rf_predictions = rf_model.predict(X_train)\n",
    "train_rf_probs = rf_model.predict_proba(X_train)[:, 1]\n",
    "\n",
    "rf_predictions = rf_model.predict(X_test)\n",
    "rf_probs = rf_model.predict_proba(X_test)[:, 1]"
   ]
  },
  {
   "cell_type": "code",
   "execution_count": 8,
   "metadata": {},
   "outputs": [],
   "source": [
    "def evaluate_model(predictions, probs, train_predictions, train_probs):\n",
    "    \"\"\"Compare machine learning model to baseline performance.\n",
    "    Computes statistics and shows ROC curve.\"\"\"\n",
    "    \n",
    "    baseline = {}\n",
    "    \n",
    "    baseline['recall'] = recall_score(y_test, [1 for _ in range(len(y_test))])\n",
    "    baseline['precision'] = precision_score(y_test, [1 for _ in range(len(y_test))])\n",
    "    baseline['roc'] = 0.5\n",
    "\n",
    "    results = {}\n",
    "    \n",
    "    results['recall'] = recall_score(y_test, predictions)\n",
    "    results['precision'] = precision_score(y_test, predictions)\n",
    "    results['roc'] = roc_auc_score(y_test, probs)\n",
    "    \n",
    "    train_results = {}\n",
    "    train_results['recall'] = recall_score(y_train, train_predictions)\n",
    "    train_results['precision'] = precision_score(y_train, train_predictions)\n",
    "    train_results['roc'] = roc_auc_score(y_train, train_probs)\n",
    "    \n",
    "    for metric in ['recall', 'precision', 'roc']:\n",
    "        print ('Baseline: ' + str(round(baseline[metric], 2)))\n",
    "        print ('Test: ' + str(round(results[metric], 2)))\n",
    "        print ('Train: ' + str(round(train_results[metric], 2)))\n",
    "#         print(f'{metric.capitalize()} Baseline: {round(baseline[metric], 2)} Test: {round(results[metric], 2)} Train: {round(train_results[metric], 2)}')\n",
    "    \n",
    "    # Calculate false positive rates and true positive rates\n",
    "    base_fpr, base_tpr, _ = roc_curve(y_test, [1 for _ in range(len(y_test))])\n",
    "    model_fpr, model_tpr, _ = roc_curve(y_test, probs)\n",
    "\n",
    "    plt.figure(figsize = (8, 6))\n",
    "    plt.rcParams['font.size'] = 16\n",
    "    \n",
    "    # Plot both curves\n",
    "    plt.plot(base_fpr, base_tpr, 'b', label = 'baseline')\n",
    "    plt.plot(model_fpr, model_tpr, 'r', label = 'model')\n",
    "    plt.legend();\n",
    "    plt.xlabel('False Positive Rate'); plt.ylabel('True Positive Rate'); plt.title('ROC Curves');"
   ]
  },
  {
   "cell_type": "code",
   "execution_count": 9,
   "metadata": {},
   "outputs": [
    {
     "name": "stdout",
     "output_type": "stream",
     "text": [
      "Baseline: 1.0\n",
      "Test: 0.22\n",
      "Train: 1.0\n",
      "Baseline: 0.25\n",
      "Test: 0.64\n",
      "Train: 1.0\n",
      "Baseline: 0.5\n",
      "Test: 0.71\n",
      "Train: 1.0\n"
     ]
    },
    {
     "data": {
      "image/png": "[encoded data removed]",
      "text/plain": [
       "<matplotlib.figure.Figure at 0x29991e0be48>"
      ]
     },
     "metadata": {},
     "output_type": "display_data"
    }
   ],
   "source": [
    "evaluate_model(rf_predictions, rf_probs, train_rf_predictions, train_rf_probs)"
   ]
  },
  {
   "cell_type": "code",
   "execution_count": 10,
   "metadata": {},
   "outputs": [
    {
     "name": "stdout",
     "output_type": "stream",
     "text": [
      "AUC:  0.71311674188\n"
     ]
    }
   ],
   "source": [
    "auc = roc_auc_score(y_test, rf_probs)\n",
    "print(\"AUC: \", auc)"
   ]
  },
  {
   "cell_type": "code",
   "execution_count": null,
   "metadata": {},
   "outputs": [],
   "source": []
  }
 ],
 "metadata": {
  "kernelspec": {
   "display_name": "Python 3",
   "language": "python",
   "name": "python3"
  },
  "language_info": {
   "codemirror_mode": {
    "name": "ipython",
    "version": 3
   },
   "file_extension": ".py",
   "mimetype": "text/x-python",
   "name": "python",
   "nbconvert_exporter": "python",
   "pygments_lexer": "ipython3",
   "version": "3.6.2"
  }
 },
 "nbformat": 4,
 "nbformat_minor": 2
}

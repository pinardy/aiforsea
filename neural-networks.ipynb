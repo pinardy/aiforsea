{
 "cells": [
  {
   "cell_type": "markdown",
   "metadata": {},
   "source": [
    "# Neural Networks (Safety category)"
   ]
  },
  {
   "cell_type": "code",
   "execution_count": 17,
   "metadata": {},
   "outputs": [],
   "source": [
    "import numpy as np\n",
    "import pandas as pd\n",
    "import matplotlib.pyplot as plt\n",
    "%matplotlib inline\n",
    "\n",
    "import time\n",
    "\n",
    "from sklearn.model_selection import train_test_split\n",
    "\n",
    "from keras import models\n",
    "from keras import layers\n",
    "from keras.wrappers.scikit_learn import KerasClassifier\n",
    "from sklearn.model_selection import cross_val_score"
   ]
  },
  {
   "cell_type": "code",
   "execution_count": 18,
   "metadata": {},
   "outputs": [
    {
     "data": {
      "text/html": [
       "<div>\n",
       "<style scoped>\n",
       "    .dataframe tbody tr th:only-of-type {\n",
       "        vertical-align: middle;\n",
       "    }\n",
       "\n",
       "    .dataframe tbody tr th {\n",
       "        vertical-align: top;\n",
       "    }\n",
       "\n",
       "    .dataframe thead th {\n",
       "        text-align: right;\n",
       "    }\n",
       "</style>\n",
       "<table border=\"1\" class=\"dataframe\">\n",
       "  <thead>\n",
       "    <tr style=\"text-align: right;\">\n",
       "      <th></th>\n",
       "      <th>bookingID</th>\n",
       "      <th>Accuracy_avg</th>\n",
       "      <th>Bearing_avg</th>\n",
       "      <th>acceleration_x_avg</th>\n",
       "      <th>acceleration_y_avg</th>\n",
       "      <th>acceleration_z_avg</th>\n",
       "      <th>gyro_x_avg</th>\n",
       "      <th>gyro_y_avg</th>\n",
       "      <th>gyro_z_avg</th>\n",
       "      <th>Speed_avg</th>\n",
       "      <th>...</th>\n",
       "      <th>Bearing_std</th>\n",
       "      <th>acceleration_x_std</th>\n",
       "      <th>acceleration_y_std</th>\n",
       "      <th>acceleration_z_std</th>\n",
       "      <th>gyro_x_std</th>\n",
       "      <th>gyro_y_std</th>\n",
       "      <th>gyro_z_std</th>\n",
       "      <th>Speed_std</th>\n",
       "      <th>time</th>\n",
       "      <th>label</th>\n",
       "    </tr>\n",
       "  </thead>\n",
       "  <tbody>\n",
       "    <tr>\n",
       "      <th>0</th>\n",
       "      <td>0</td>\n",
       "      <td>10.165339</td>\n",
       "      <td>176.526099</td>\n",
       "      <td>-0.711264</td>\n",
       "      <td>-9.613822</td>\n",
       "      <td>-1.619658</td>\n",
       "      <td>0.003328</td>\n",
       "      <td>-0.006118</td>\n",
       "      <td>-0.004188</td>\n",
       "      <td>8.994822</td>\n",
       "      <td>...</td>\n",
       "      <td>129.231351</td>\n",
       "      <td>0.928022</td>\n",
       "      <td>0.639934</td>\n",
       "      <td>1.141266</td>\n",
       "      <td>0.065954</td>\n",
       "      <td>0.100225</td>\n",
       "      <td>0.063685</td>\n",
       "      <td>7.199919</td>\n",
       "      <td>1589.0</td>\n",
       "      <td>0</td>\n",
       "    </tr>\n",
       "    <tr>\n",
       "      <th>1</th>\n",
       "      <td>1</td>\n",
       "      <td>3.718763</td>\n",
       "      <td>124.198590</td>\n",
       "      <td>-0.525406</td>\n",
       "      <td>9.532086</td>\n",
       "      <td>-2.198999</td>\n",
       "      <td>-0.002467</td>\n",
       "      <td>-0.007540</td>\n",
       "      <td>0.000405</td>\n",
       "      <td>7.881588</td>\n",
       "      <td>...</td>\n",
       "      <td>89.861236</td>\n",
       "      <td>0.744157</td>\n",
       "      <td>0.533915</td>\n",
       "      <td>0.854271</td>\n",
       "      <td>0.027740</td>\n",
       "      <td>0.091699</td>\n",
       "      <td>0.033838</td>\n",
       "      <td>7.059362</td>\n",
       "      <td>1034.0</td>\n",
       "      <td>1</td>\n",
       "    </tr>\n",
       "    <tr>\n",
       "      <th>2</th>\n",
       "      <td>2</td>\n",
       "      <td>3.930626</td>\n",
       "      <td>173.794872</td>\n",
       "      <td>0.306786</td>\n",
       "      <td>9.843183</td>\n",
       "      <td>0.139347</td>\n",
       "      <td>0.006458</td>\n",
       "      <td>-0.012861</td>\n",
       "      <td>0.002597</td>\n",
       "      <td>3.157213</td>\n",
       "      <td>...</td>\n",
       "      <td>119.316520</td>\n",
       "      <td>0.756589</td>\n",
       "      <td>0.505693</td>\n",
       "      <td>1.020021</td>\n",
       "      <td>0.053903</td>\n",
       "      <td>0.117321</td>\n",
       "      <td>0.036215</td>\n",
       "      <td>2.897762</td>\n",
       "      <td>825.0</td>\n",
       "      <td>1</td>\n",
       "    </tr>\n",
       "    <tr>\n",
       "      <th>3</th>\n",
       "      <td>4</td>\n",
       "      <td>10.000000</td>\n",
       "      <td>151.807013</td>\n",
       "      <td>-0.365117</td>\n",
       "      <td>-9.406439</td>\n",
       "      <td>-2.613639</td>\n",
       "      <td>-0.022884</td>\n",
       "      <td>0.023232</td>\n",
       "      <td>-0.000376</td>\n",
       "      <td>6.150996</td>\n",
       "      <td>...</td>\n",
       "      <td>71.273774</td>\n",
       "      <td>0.527220</td>\n",
       "      <td>0.598023</td>\n",
       "      <td>0.779529</td>\n",
       "      <td>0.042342</td>\n",
       "      <td>0.112567</td>\n",
       "      <td>0.065927</td>\n",
       "      <td>5.595901</td>\n",
       "      <td>1094.0</td>\n",
       "      <td>1</td>\n",
       "    </tr>\n",
       "    <tr>\n",
       "      <th>4</th>\n",
       "      <td>6</td>\n",
       "      <td>4.586721</td>\n",
       "      <td>197.812785</td>\n",
       "      <td>0.490616</td>\n",
       "      <td>9.538043</td>\n",
       "      <td>2.355059</td>\n",
       "      <td>0.003877</td>\n",
       "      <td>0.000436</td>\n",
       "      <td>0.002930</td>\n",
       "      <td>4.628921</td>\n",
       "      <td>...</td>\n",
       "      <td>111.868249</td>\n",
       "      <td>0.826271</td>\n",
       "      <td>0.617210</td>\n",
       "      <td>0.942163</td>\n",
       "      <td>0.055170</td>\n",
       "      <td>0.106815</td>\n",
       "      <td>0.057438</td>\n",
       "      <td>5.314844</td>\n",
       "      <td>1094.0</td>\n",
       "      <td>0</td>\n",
       "    </tr>\n",
       "  </tbody>\n",
       "</table>\n",
       "<p>5 rows × 57 columns</p>\n",
       "</div>"
      ],
      "text/plain": [
       "   bookingID  Accuracy_avg  Bearing_avg  acceleration_x_avg  \\\n",
       "0          0     10.165339   176.526099           -0.711264   \n",
       "1          1      3.718763   124.198590           -0.525406   \n",
       "2          2      3.930626   173.794872            0.306786   \n",
       "3          4     10.000000   151.807013           -0.365117   \n",
       "4          6      4.586721   197.812785            0.490616   \n",
       "\n",
       "   acceleration_y_avg  acceleration_z_avg  gyro_x_avg  gyro_y_avg  gyro_z_avg  \\\n",
       "0           -9.613822           -1.619658    0.003328   -0.006118   -0.004188   \n",
       "1            9.532086           -2.198999   -0.002467   -0.007540    0.000405   \n",
       "2            9.843183            0.139347    0.006458   -0.012861    0.002597   \n",
       "3           -9.406439           -2.613639   -0.022884    0.023232   -0.000376   \n",
       "4            9.538043            2.355059    0.003877    0.000436    0.002930   \n",
       "\n",
       "   Speed_avg  ...    Bearing_std  acceleration_x_std  acceleration_y_std  \\\n",
       "0   8.994822  ...     129.231351            0.928022            0.639934   \n",
       "1   7.881588  ...      89.861236            0.744157            0.533915   \n",
       "2   3.157213  ...     119.316520            0.756589            0.505693   \n",
       "3   6.150996  ...      71.273774            0.527220            0.598023   \n",
       "4   4.628921  ...     111.868249            0.826271            0.617210   \n",
       "\n",
       "   acceleration_z_std  gyro_x_std  gyro_y_std  gyro_z_std  Speed_std    time  \\\n",
       "0            1.141266    0.065954    0.100225    0.063685   7.199919  1589.0   \n",
       "1            0.854271    0.027740    0.091699    0.033838   7.059362  1034.0   \n",
       "2            1.020021    0.053903    0.117321    0.036215   2.897762   825.0   \n",
       "3            0.779529    0.042342    0.112567    0.065927   5.595901  1094.0   \n",
       "4            0.942163    0.055170    0.106815    0.057438   5.314844  1094.0   \n",
       "\n",
       "   label  \n",
       "0      0  \n",
       "1      1  \n",
       "2      1  \n",
       "3      1  \n",
       "4      0  \n",
       "\n",
       "[5 rows x 57 columns]"
      ]
     },
     "execution_count": 18,
     "metadata": {},
     "output_type": "execute_result"
    }
   ],
   "source": [
    "safety_dataset_new = pd.read_csv('safety_dataset_new.csv')\n",
    "safety_dataset_new.head()"
   ]
  },
  {
   "cell_type": "code",
   "execution_count": 19,
   "metadata": {},
   "outputs": [
    {
     "name": "stdout",
     "output_type": "stream",
     "text": [
      "<class 'numpy.ndarray'> (20000, 57)\n"
     ]
    }
   ],
   "source": [
    "data = safety_dataset_new.values\n",
    "print(type(data), data.shape)"
   ]
  },
  {
   "cell_type": "code",
   "execution_count": 20,
   "metadata": {},
   "outputs": [],
   "source": [
    "X = safety_dataset_new.drop(['label', 'bookingID'], axis=1)\n",
    "y = safety_dataset_new.label"
   ]
  },
  {
   "cell_type": "code",
   "execution_count": 21,
   "metadata": {},
   "outputs": [],
   "source": [
    "X_train, X_test, y_train, y_test = train_test_split(X, y, test_size=0.25, random_state=0)"
   ]
  },
  {
   "cell_type": "code",
   "execution_count": 25,
   "metadata": {},
   "outputs": [],
   "source": [
    "def neural_net():\n",
    "    \"\"\"\n",
    "    input: N.A.\n",
    "    output: a neural network model \n",
    "    \n",
    "    purpose: define the neural network model\n",
    "    \"\"\"\n",
    "    # initialize model\n",
    "    model = models.Sequential()\n",
    "    \n",
    "    # Input layer\n",
    "    model.add(layers.Dense(50, activation = \"relu\", input_shape=(55, )))\n",
    "    \n",
    "    # Hidden layers\n",
    "    model.add(layers.Dense(100, activation = \"relu\"))\n",
    "    model.add(layers.Dense(50, activation = \"relu\"))\n",
    "    \n",
    "    # Output Layer\n",
    "    model.add(layers.Dense(1, kernel_initializer='normal'))\n",
    "    \n",
    "    # Compile neural network\n",
    "    model.compile(optimizer='adam', loss='mean_absolute_error', metrics=['accuracy'])\n",
    "\n",
    "    return model"
   ]
  },
  {
   "cell_type": "code",
   "execution_count": 26,
   "metadata": {},
   "outputs": [
    {
     "name": "stdout",
     "output_type": "stream",
     "text": [
      "_________________________________________________________________\n",
      "Layer (type)                 Output Shape              Param #   \n",
      "=================================================================\n",
      "dense_13 (Dense)             (None, 50)                2800      \n",
      "_________________________________________________________________\n",
      "dense_14 (Dense)             (None, 100)               5100      \n",
      "_________________________________________________________________\n",
      "dense_15 (Dense)             (None, 50)                5050      \n",
      "_________________________________________________________________\n",
      "dense_16 (Dense)             (None, 1)                 51        \n",
      "=================================================================\n",
      "Total params: 13,001\n",
      "Trainable params: 13,001\n",
      "Non-trainable params: 0\n",
      "_________________________________________________________________\n"
     ]
    }
   ],
   "source": [
    "model = neural_net()\n",
    "\n",
    "# Wrap Keras model so it can be used by scikit-learn for cross-fold validation\n",
    "neural_network = KerasClassifier(build_fn=neural_net, \n",
    "                                 epochs=10, \n",
    "                                 batch_size=100, \n",
    "                                 verbose=0)\n",
    "\n",
    "# print model information\n",
    "model.summary()"
   ]
  },
  {
   "cell_type": "code",
   "execution_count": 27,
   "metadata": {},
   "outputs": [
    {
     "name": "stderr",
     "output_type": "stream",
     "text": [
      "C:\\Users\\Pinar\\Anaconda3\\lib\\site-packages\\keras\\models.py:942: UserWarning: The `nb_epoch` argument in `fit` has been renamed `epochs`.\n",
      "  warnings.warn('The `nb_epoch` argument in `fit` '\n"
     ]
    },
    {
     "name": "stdout",
     "output_type": "stream",
     "text": [
      "Train on 12000 samples, validate on 3000 samples\n",
      "Epoch 1/20\n",
      "12000/12000 [==============================] - 1s 103us/step - loss: 388.8261 - acc: 0.4644 - val_loss: 21654.9082 - val_acc: 0.0167\n",
      "Epoch 2/20\n",
      "12000/12000 [==============================] - 0s 34us/step - loss: 1580.7872 - acc: 0.3414 - val_loss: 179.6499 - val_acc: 0.6307\n",
      "Epoch 3/20\n",
      "12000/12000 [==============================] - 0s 33us/step - loss: 4451.1426 - acc: 0.5586 - val_loss: 16879.5915 - val_acc: 0.0867\n",
      "Epoch 4/20\n",
      "12000/12000 [==============================] - 0s 37us/step - loss: 1622.4696 - acc: 0.4952 - val_loss: 49491.1923 - val_acc: 0.0430\n",
      "Epoch 5/20\n",
      "12000/12000 [==============================] - 0s 35us/step - loss: 3743.6963 - acc: 0.3282 - val_loss: 1247.0865 - val_acc: 0.6780\n",
      "Epoch 6/20\n",
      "12000/12000 [==============================] - ETA: 0s - loss: 3448.4053 - acc: 0.54 - 0s 34us/step - loss: 3420.8216 - acc: 0.5507 - val_loss: 6875.9482 - val_acc: 0.7073\n",
      "Epoch 7/20\n",
      "12000/12000 [==============================] - 0s 36us/step - loss: 1274.4558 - acc: 0.6119 - val_loss: 2851.8512 - val_acc: 0.7167\n",
      "Epoch 8/20\n",
      "12000/12000 [==============================] - 0s 39us/step - loss: 2057.2161 - acc: 0.6276 - val_loss: 18379.1530 - val_acc: 0.3527\n",
      "Epoch 9/20\n",
      "12000/12000 [==============================] - 0s 36us/step - loss: 2241.1059 - acc: 0.6883 - val_loss: 11151.1500 - val_acc: 0.7360\n",
      "Epoch 10/20\n",
      "12000/12000 [==============================] - 0s 35us/step - loss: 1755.9136 - acc: 0.7303 - val_loss: 6357.4582 - val_acc: 0.7120\n",
      "Epoch 11/20\n",
      "12000/12000 [==============================] - 0s 39us/step - loss: 1001.5265 - acc: 0.7449 - val_loss: 5007.5486 - val_acc: 0.7390\n",
      "Epoch 12/20\n",
      "12000/12000 [==============================] - 0s 35us/step - loss: 733.0081 - acc: 0.7534 - val_loss: 4049.8182 - val_acc: 0.7417\n",
      "Epoch 13/20\n",
      "12000/12000 [==============================] - 0s 35us/step - loss: 571.9187 - acc: 0.7538 - val_loss: 3020.8522 - val_acc: 0.7407\n",
      "Epoch 14/20\n",
      "12000/12000 [==============================] - 0s 37us/step - loss: 355.8097 - acc: 0.7577 - val_loss: 2772.3130 - val_acc: 0.7427\n",
      "Epoch 15/20\n",
      "12000/12000 [==============================] - 0s 40us/step - loss: 391.7400 - acc: 0.7574 - val_loss: 2170.5770 - val_acc: 0.7470\n",
      "Epoch 16/20\n",
      "12000/12000 [==============================] - 0s 35us/step - loss: 368.9086 - acc: 0.7585 - val_loss: 2126.1193 - val_acc: 0.7450\n",
      "Epoch 17/20\n",
      "12000/12000 [==============================] - 0s 35us/step - loss: 324.2517 - acc: 0.7582 - val_loss: 199.4883 - val_acc: 0.7467\n",
      "Epoch 18/20\n",
      "12000/12000 [==============================] - 0s 39us/step - loss: 317.0217 - acc: 0.7562 - val_loss: 1418.4951 - val_acc: 0.7450\n",
      "Epoch 19/20\n",
      "12000/12000 [==============================] - 0s 35us/step - loss: 237.0673 - acc: 0.7569 - val_loss: 2954.7446 - val_acc: 0.7430\n",
      "Epoch 20/20\n",
      "12000/12000 [==============================] - 0s 36us/step - loss: 345.6514 - acc: 0.7588 - val_loss: 1196.7778 - val_acc: 0.7430\n",
      "Model took 10.19 seconds to train\n"
     ]
    }
   ],
   "source": [
    "start = time.time()\n",
    "\n",
    "model_info = model.fit(X_train, y_train, batch_size=64, \\\n",
    "                       nb_epoch=20, verbose=1, validation_split=0.2)\n",
    "end = time.time()\n",
    "print(\"Model took %0.2f seconds to train\"%(end - start))"
   ]
  },
  {
   "cell_type": "code",
   "execution_count": 28,
   "metadata": {},
   "outputs": [
    {
     "data": {
      "text/plain": [
       "array([ 0.76066666,  0.726     ,  0.70766667,  0.747     ,  0.72333333])"
      ]
     },
     "execution_count": 28,
     "metadata": {},
     "output_type": "execute_result"
    }
   ],
   "source": [
    "# Evaluate neural network using five-fold cross-validation\n",
    "# Referenced from https://chrisalbon.com/deep_learning/keras/k-fold_cross-validating_neural_networks/\n",
    "cross_val_score(neural_network, X_train, y_train, cv=5)"
   ]
  },
  {
   "cell_type": "code",
   "execution_count": 30,
   "metadata": {},
   "outputs": [
    {
     "name": "stdout",
     "output_type": "stream",
     "text": [
      "5000/5000 [==============================] - 0s 33us/step\n"
     ]
    }
   ],
   "source": [
    "# Evaluate model on test data\n",
    "score = model.evaluate(X_test, y_test, verbose=1)"
   ]
  },
  {
   "cell_type": "code",
   "execution_count": null,
   "metadata": {},
   "outputs": [],
   "source": []
  }
 ],
 "metadata": {
  "kernelspec": {
   "display_name": "Python 3",
   "language": "python",
   "name": "python3"
  },
  "language_info": {
   "codemirror_mode": {
    "name": "ipython",
    "version": 3
   },
   "file_extension": ".py",
   "mimetype": "text/x-python",
   "name": "python",
   "nbconvert_exporter": "python",
   "pygments_lexer": "ipython3",
   "version": "3.6.2"
  }
 },
 "nbformat": 4,
 "nbformat_minor": 2
}
